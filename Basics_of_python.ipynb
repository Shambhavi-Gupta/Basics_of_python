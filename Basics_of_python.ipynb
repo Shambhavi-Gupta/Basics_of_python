{
  "nbformat": 4,
  "nbformat_minor": 0,
  "metadata": {
    "colab": {
      "name": "Basics_of_python.ipynb",
      "provenance": [],
      "collapsed_sections": [],
      "authorship_tag": "ABX9TyNeJYonftH5OS6OYBhHQTyE",
      "include_colab_link": true
    },
    "kernelspec": {
      "name": "python3",
      "display_name": "Python 3"
    }
  },
  "cells": [
    {
      "cell_type": "markdown",
      "metadata": {
        "id": "view-in-github",
        "colab_type": "text"
      },
      "source": [
        "<a href=\"https://colab.research.google.com/github/Shambhavi-Gupta/Basics_of_python/blob/master/Basics_of_python.ipynb\" target=\"_parent\"><img src=\"https://colab.research.google.com/assets/colab-badge.svg\" alt=\"Open In Colab\"/></a>"
      ]
    },
    {
      "cell_type": "markdown",
      "metadata": {
        "id": "dwg6CvuE121K",
        "colab_type": "text"
      },
      "source": [
        "# Printing Basic Types"
      ]
    },
    {
      "cell_type": "code",
      "metadata": {
        "id": "YReYG_zFtx_O",
        "colab_type": "code",
        "outputId": "6fa7fab1-394a-4144-b2cb-48b62f314fb6",
        "colab": {
          "base_uri": "https://localhost:8080/",
          "height": 34
        }
      },
      "source": [
        "print(\"Hello World!\") "
      ],
      "execution_count": 0,
      "outputs": [
        {
          "output_type": "stream",
          "text": [
            "Hello World!\n"
          ],
          "name": "stdout"
        }
      ]
    },
    {
      "cell_type": "code",
      "metadata": {
        "id": "-jcFsO8PwMAT",
        "colab_type": "code",
        "outputId": "6e038355-7ddb-4bbd-cbff-e76cb8c687d0",
        "colab": {
          "base_uri": "https://localhost:8080/",
          "height": 51
        }
      },
      "source": [
        "print(\"Hello World!\")\n",
        "print(\"Namakar from Padhai \")"
      ],
      "execution_count": 0,
      "outputs": [
        {
          "output_type": "stream",
          "text": [
            "Hello World!\n",
            "Namakar from Padhai \n"
          ],
          "name": "stdout"
        }
      ]
    },
    {
      "cell_type": "code",
      "metadata": {
        "id": "Cs2IOJ9wxw81",
        "colab_type": "code",
        "outputId": "3b45ac96-d17d-4c44-863a-0ecf061b7365",
        "colab": {
          "base_uri": "https://localhost:8080/",
          "height": 51
        }
      },
      "source": [
        "print(\"padhai\")\n",
        "print(\"padh\" + \"ai\")"
      ],
      "execution_count": 0,
      "outputs": [
        {
          "output_type": "stream",
          "text": [
            "padhai\n",
            "padhai\n"
          ],
          "name": "stdout"
        }
      ]
    },
    {
      "cell_type": "code",
      "metadata": {
        "id": "lUuWKwC4x6fl",
        "colab_type": "code",
        "outputId": "8261c31c-902b-4c9d-fa6b-d21cd7bc4b30",
        "colab": {
          "base_uri": "https://localhost:8080/",
          "height": 51
        }
      },
      "source": [
        "print(1729)\n",
        "print(1000+729) # check with this Ramanujan's entry"
      ],
      "execution_count": 0,
      "outputs": [
        {
          "output_type": "stream",
          "text": [
            "1729\n",
            "1729\n"
          ],
          "name": "stdout"
        }
      ]
    },
    {
      "cell_type": "code",
      "metadata": {
        "id": "ttT9W0G8yYAi",
        "colab_type": "code",
        "outputId": "bb48974b-f468-4326-de24-a63ba5b9a9d3",
        "colab": {
          "base_uri": "https://localhost:8080/",
          "height": 34
        }
      },
      "source": [
        "print(55/34) # check golden value"
      ],
      "execution_count": 0,
      "outputs": [
        {
          "output_type": "stream",
          "text": [
            "1.6176470588235294\n"
          ],
          "name": "stdout"
        }
      ]
    },
    {
      "cell_type": "code",
      "metadata": {
        "id": "UIuKC5kpzYFa",
        "colab_type": "code",
        "outputId": "13aba1f1-6eab-4ce8-fe63-56d916b549fb",
        "colab": {
          "base_uri": "https://localhost:8080/",
          "height": 34
        }
      },
      "source": [
        "print(1.67)\n"
      ],
      "execution_count": 0,
      "outputs": [
        {
          "output_type": "stream",
          "text": [
            "1.67\n"
          ],
          "name": "stdout"
        }
      ]
    },
    {
      "cell_type": "code",
      "metadata": {
        "id": "np3ILKFwzeu1",
        "colab_type": "code",
        "outputId": "004f7103-c43b-4e72-a873-a61a510b2d10",
        "colab": {
          "base_uri": "https://localhost:8080/",
          "height": 51
        }
      },
      "source": [
        "print(True or False )\n",
        "print(True and False)"
      ],
      "execution_count": 0,
      "outputs": [
        {
          "output_type": "stream",
          "text": [
            "True\n",
            "False\n"
          ],
          "name": "stdout"
        }
      ]
    },
    {
      "cell_type": "markdown",
      "metadata": {
        "id": "Y9XEZ0RL0tbQ",
        "colab_type": "text"
      },
      "source": [
        "# Variables and Inputs"
      ]
    },
    {
      "cell_type": "code",
      "metadata": {
        "id": "Q3nq8ir80WKO",
        "colab_type": "code",
        "outputId": "026477cc-a462-4b2a-de20-fcf0aba95c18",
        "colab": {
          "base_uri": "https://localhost:8080/",
          "height": 34
        }
      },
      "source": [
        "school=\"padhai\"\n",
        "print(school)"
      ],
      "execution_count": 0,
      "outputs": [
        {
          "output_type": "stream",
          "text": [
            "padhai\n"
          ],
          "name": "stdout"
        }
      ]
    },
    {
      "cell_type": "code",
      "metadata": {
        "id": "k1jFWTlJ2vHk",
        "colab_type": "code",
        "outputId": "74302baa-1969-48a0-ea03-b2f6c346e636",
        "colab": {
          "base_uri": "https://localhost:8080/",
          "height": 163
        }
      },
      "source": [
        "print(type(school))"
      ],
      "execution_count": 0,
      "outputs": [
        {
          "output_type": "error",
          "ename": "NameError",
          "evalue": "ignored",
          "traceback": [
            "\u001b[0;31m---------------------------------------------------------------------------\u001b[0m",
            "\u001b[0;31mNameError\u001b[0m                                 Traceback (most recent call last)",
            "\u001b[0;32m<ipython-input-2-74bd2e0e11ce>\u001b[0m in \u001b[0;36m<module>\u001b[0;34m()\u001b[0m\n\u001b[0;32m----> 1\u001b[0;31m \u001b[0mprint\u001b[0m\u001b[0;34m(\u001b[0m\u001b[0mtype\u001b[0m\u001b[0;34m(\u001b[0m\u001b[0mschool\u001b[0m\u001b[0;34m)\u001b[0m\u001b[0;34m)\u001b[0m\u001b[0;34m\u001b[0m\u001b[0;34m\u001b[0m\u001b[0m\n\u001b[0m",
            "\u001b[0;31mNameError\u001b[0m: name 'school' is not defined"
          ]
        }
      ]
    },
    {
      "cell_type": "code",
      "metadata": {
        "id": "wGCYNUNP4f-M",
        "colab_type": "code",
        "outputId": "875a600a-41ff-42c8-e938-356f0a89e7e4",
        "colab": {
          "base_uri": "https://localhost:8080/",
          "height": 163
        }
      },
      "source": [
        "print(type(school))"
      ],
      "execution_count": 0,
      "outputs": [
        {
          "output_type": "error",
          "ename": "NameError",
          "evalue": "ignored",
          "traceback": [
            "\u001b[0;31m---------------------------------------------------------------------------\u001b[0m",
            "\u001b[0;31mNameError\u001b[0m                                 Traceback (most recent call last)",
            "\u001b[0;32m<ipython-input-3-74bd2e0e11ce>\u001b[0m in \u001b[0;36m<module>\u001b[0;34m()\u001b[0m\n\u001b[0;32m----> 1\u001b[0;31m \u001b[0mprint\u001b[0m\u001b[0;34m(\u001b[0m\u001b[0mtype\u001b[0m\u001b[0;34m(\u001b[0m\u001b[0mschool\u001b[0m\u001b[0;34m)\u001b[0m\u001b[0;34m)\u001b[0m\u001b[0;34m\u001b[0m\u001b[0;34m\u001b[0m\u001b[0m\n\u001b[0m",
            "\u001b[0;31mNameError\u001b[0m: name 'school' is not defined"
          ]
        }
      ]
    },
    {
      "cell_type": "code",
      "metadata": {
        "id": "BbQJhXhh5HaY",
        "colab_type": "code",
        "outputId": "a7c7f84a-60cd-4acb-dacb-00e7cccedd05",
        "colab": {
          "base_uri": "https://localhost:8080/",
          "height": 34
        }
      },
      "source": [
        "school=\"padhai\"\n",
        "print(school)"
      ],
      "execution_count": 0,
      "outputs": [
        {
          "output_type": "stream",
          "text": [
            "padhai\n"
          ],
          "name": "stdout"
        }
      ]
    },
    {
      "cell_type": "code",
      "metadata": {
        "id": "rDr-NH6Y5Thc",
        "colab_type": "code",
        "outputId": "01c2ec87-e5ed-4244-b06d-ae1ef28760a0",
        "colab": {
          "base_uri": "https://localhost:8080/",
          "height": 34
        }
      },
      "source": [
        "print(type(school))"
      ],
      "execution_count": 0,
      "outputs": [
        {
          "output_type": "stream",
          "text": [
            "<class 'str'>\n"
          ],
          "name": "stdout"
        }
      ]
    },
    {
      "cell_type": "code",
      "metadata": {
        "id": "UUqP4qrO5Zii",
        "colab_type": "code",
        "outputId": "75831cc8-7413-4e75-867d-e5465c68a67d",
        "colab": {
          "base_uri": "https://localhost:8080/",
          "height": 34
        }
      },
      "source": [
        "print(id(school))"
      ],
      "execution_count": 0,
      "outputs": [
        {
          "output_type": "stream",
          "text": [
            "140646162721904\n"
          ],
          "name": "stdout"
        }
      ]
    },
    {
      "cell_type": "code",
      "metadata": {
        "id": "AO-FScPF56uB",
        "colab_type": "code",
        "outputId": "731c51b1-ecfe-481c-c0a4-520af949fef6",
        "colab": {
          "base_uri": "https://localhost:8080/",
          "height": 34
        }
      },
      "source": [
        "another_school=\"padhai\"\n",
        "print(another_school)"
      ],
      "execution_count": 0,
      "outputs": [
        {
          "output_type": "stream",
          "text": [
            "padhai\n"
          ],
          "name": "stdout"
        }
      ]
    },
    {
      "cell_type": "code",
      "metadata": {
        "id": "Z7ukdZfP7Ykg",
        "colab_type": "code",
        "outputId": "f6179e33-d30d-47eb-a3e4-cfef8697f7d2",
        "colab": {
          "base_uri": "https://localhost:8080/",
          "height": 34
        }
      },
      "source": [
        "print(id(another_school))\n"
      ],
      "execution_count": 0,
      "outputs": [
        {
          "output_type": "stream",
          "text": [
            "140646154132976\n"
          ],
          "name": "stdout"
        }
      ]
    },
    {
      "cell_type": "code",
      "metadata": {
        "id": "7KRU5-PC7ddR",
        "colab_type": "code",
        "outputId": "66d49791-f2e5-4074-b222-d7c1df862b4b",
        "colab": {
          "base_uri": "https://localhost:8080/",
          "height": 34
        }
      },
      "source": [
        "print(type(another_school))"
      ],
      "execution_count": 0,
      "outputs": [
        {
          "output_type": "stream",
          "text": [
            "<class 'str'>\n"
          ],
          "name": "stdout"
        }
      ]
    },
    {
      "cell_type": "code",
      "metadata": {
        "id": "TeOQZuDh7lK5",
        "colab_type": "code",
        "outputId": "80c8258d-c773-44d0-ebfa-00eb4640dbc1",
        "colab": {
          "base_uri": "https://localhost:8080/",
          "height": 34
        }
      },
      "source": [
        "another_school=\"IIT Madras\"\n",
        "print(id(another_school))"
      ],
      "execution_count": 0,
      "outputs": [
        {
          "output_type": "stream",
          "text": [
            "140646154132976\n"
          ],
          "name": "stdout"
        }
      ]
    },
    {
      "cell_type": "code",
      "metadata": {
        "id": "Mz4iiTtK85tx",
        "colab_type": "code",
        "outputId": "5f3c7c56-040b-4867-fe81-539fc77bc1a9",
        "colab": {
          "base_uri": "https://localhost:8080/",
          "height": 34
        }
      },
      "source": [
        "print(\"I am studying at \"+ school)\n"
      ],
      "execution_count": 0,
      "outputs": [
        {
          "output_type": "stream",
          "text": [
            "I am studying at padhai\n"
          ],
          "name": "stdout"
        }
      ]
    },
    {
      "cell_type": "code",
      "metadata": {
        "id": "W4aB7bAS-RW5",
        "colab_type": "code",
        "colab": {}
      },
      "source": [
        "r_no=1729\n"
      ],
      "execution_count": 0,
      "outputs": []
    },
    {
      "cell_type": "code",
      "metadata": {
        "id": "7tFjS9XyBr2u",
        "colab_type": "code",
        "outputId": "01a95ed3-8577-4c0a-db10-12416fd588a4",
        "colab": {
          "base_uri": "https://localhost:8080/",
          "height": 34
        }
      },
      "source": [
        "print(type(r_no))"
      ],
      "execution_count": 0,
      "outputs": [
        {
          "output_type": "stream",
          "text": [
            "<class 'int'>\n"
          ],
          "name": "stdout"
        }
      ]
    },
    {
      "cell_type": "code",
      "metadata": {
        "id": "80SkqOabBxwb",
        "colab_type": "code",
        "colab": {}
      },
      "source": [
        "golden_ratio=55/34"
      ],
      "execution_count": 0,
      "outputs": []
    },
    {
      "cell_type": "code",
      "metadata": {
        "id": "FeHAMzScCLk_",
        "colab_type": "code",
        "outputId": "ef202ebd-3f6d-46a5-9710-4e52075c47af",
        "colab": {
          "base_uri": "https://localhost:8080/",
          "height": 34
        }
      },
      "source": [
        "print(type(golden_ratio))"
      ],
      "execution_count": 0,
      "outputs": [
        {
          "output_type": "stream",
          "text": [
            "<class 'float'>\n"
          ],
          "name": "stdout"
        }
      ]
    },
    {
      "cell_type": "code",
      "metadata": {
        "id": "ptQQQqZ4CPs8",
        "colab_type": "code",
        "colab": {}
      },
      "source": [
        "is_good=True"
      ],
      "execution_count": 0,
      "outputs": []
    },
    {
      "cell_type": "code",
      "metadata": {
        "id": "2uyE7sthCnLK",
        "colab_type": "code",
        "outputId": "515b6d3c-ee43-42f2-f10a-7ed6d309d1bb",
        "colab": {
          "base_uri": "https://localhost:8080/",
          "height": 34
        }
      },
      "source": [
        "print(type(is_good))"
      ],
      "execution_count": 0,
      "outputs": [
        {
          "output_type": "stream",
          "text": [
            "<class 'bool'>\n"
          ],
          "name": "stdout"
        }
      ]
    },
    {
      "cell_type": "code",
      "metadata": {
        "id": "buQVW9mICqLX",
        "colab_type": "code",
        "outputId": "7ce3f539-6047-41ac-b4ff-5d6c8d664c62",
        "colab": {
          "base_uri": "https://localhost:8080/",
          "height": 34
        }
      },
      "source": [
        " my_name = input(\"What is you name\")"
      ],
      "execution_count": 0,
      "outputs": [
        {
          "output_type": "stream",
          "text": [
            "What is you nameshambhavi\n"
          ],
          "name": "stdout"
        }
      ]
    },
    {
      "cell_type": "code",
      "metadata": {
        "id": "IQ6FMMDhDdFy",
        "colab_type": "code",
        "outputId": "563e7de6-6dbd-4c5f-da71-e3fc8a994493",
        "colab": {
          "base_uri": "https://localhost:8080/",
          "height": 34
        }
      },
      "source": [
        "print(my_name)"
      ],
      "execution_count": 0,
      "outputs": [
        {
          "output_type": "stream",
          "text": [
            "shambhavi\n"
          ],
          "name": "stdout"
        }
      ]
    },
    {
      "cell_type": "code",
      "metadata": {
        "id": "fnX95d_SDjfm",
        "colab_type": "code",
        "outputId": "8d9052de-d1e7-40e7-bcf0-1cf6adf4b11f",
        "colab": {
          "base_uri": "https://localhost:8080/",
          "height": 34
        }
      },
      "source": [
        "print(my_name, type(my_name))"
      ],
      "execution_count": 0,
      "outputs": [
        {
          "output_type": "stream",
          "text": [
            "shambhavi <class 'str'>\n"
          ],
          "name": "stdout"
        }
      ]
    },
    {
      "cell_type": "code",
      "metadata": {
        "id": "1eL-ga9qG_a7",
        "colab_type": "code",
        "outputId": "fa3c111c-5d60-42d4-89c2-f91151d774a7",
        "colab": {
          "base_uri": "https://localhost:8080/",
          "height": 34
        }
      },
      "source": [
        "    print(my_name + \" is studying at \"+ school)"
      ],
      "execution_count": 0,
      "outputs": [
        {
          "output_type": "stream",
          "text": [
            "shambhavi is studying at padhai\n"
          ],
          "name": "stdout"
        }
      ]
    },
    {
      "cell_type": "code",
      "metadata": {
        "id": "fMSGs7bjHd8U",
        "colab_type": "code",
        "outputId": "16be24cd-0478-40f0-9274-1149868c0f17",
        "colab": {
          "base_uri": "https://localhost:8080/",
          "height": 34
        }
      },
      "source": [
        "hours_per_day = input(\"how many hours per day you study \")"
      ],
      "execution_count": 0,
      "outputs": [
        {
          "output_type": "stream",
          "text": [
            "how many hours per day you study 2.5\n"
          ],
          "name": "stdout"
        }
      ]
    },
    {
      "cell_type": "code",
      "metadata": {
        "id": "69KO-G9aIrbk",
        "colab_type": "code",
        "outputId": "b2304e2d-bf13-430c-f49f-a14b6d931575",
        "colab": {
          "base_uri": "https://localhost:8080/",
          "height": 34
        }
      },
      "source": [
        "print(my_name + \" studies for \"+ hours_per_day + \" hours \")"
      ],
      "execution_count": 0,
      "outputs": [
        {
          "output_type": "stream",
          "text": [
            "shambhavi studies for 2 hours \n"
          ],
          "name": "stdout"
        }
      ]
    },
    {
      "cell_type": "code",
      "metadata": {
        "id": "638sUzXaJWL2",
        "colab_type": "code",
        "outputId": "fa2f93df-8aef-4795-b87b-c81c348200a8",
        "colab": {
          "base_uri": "https://localhost:8080/",
          "height": 163
        }
      },
      "source": [
        "hours_per_week = hours_per_day * 7"
      ],
      "execution_count": 0,
      "outputs": [
        {
          "output_type": "error",
          "ename": "NameError",
          "evalue": "ignored",
          "traceback": [
            "\u001b[0;31m---------------------------------------------------------------------------\u001b[0m",
            "\u001b[0;31mNameError\u001b[0m                                 Traceback (most recent call last)",
            "\u001b[0;32m<ipython-input-29-c4bdaa02ac3f>\u001b[0m in \u001b[0;36m<module>\u001b[0;34m()\u001b[0m\n\u001b[0;32m----> 1\u001b[0;31m \u001b[0mhours_per_week\u001b[0m \u001b[0;34m=\u001b[0m \u001b[0mhours_per_day\u001b[0m \u001b[0;34m*\u001b[0m \u001b[0;36m7\u001b[0m\u001b[0;34m\u001b[0m\u001b[0;34m\u001b[0m\u001b[0m\n\u001b[0m",
            "\u001b[0;31mNameError\u001b[0m: name 'hours_per_day' is not defined"
          ]
        }
      ]
    },
    {
      "cell_type": "code",
      "metadata": {
        "id": "Vj05TuLUJo7n",
        "colab_type": "code",
        "outputId": "e0758069-fade-46bd-86e5-f09175aa2621",
        "colab": {
          "base_uri": "https://localhost:8080/",
          "height": 34
        }
      },
      "source": [
        "print(hours_per_week)"
      ],
      "execution_count": 0,
      "outputs": [
        {
          "output_type": "stream",
          "text": [
            "2222222\n"
          ],
          "name": "stdout"
        }
      ]
    },
    {
      "cell_type": "code",
      "metadata": {
        "id": "etDLwmP3JtEG",
        "colab_type": "code",
        "outputId": "250d78d0-e711-4dd4-b5aa-4116649ae7ed",
        "colab": {
          "base_uri": "https://localhost:8080/",
          "height": 34
        }
      },
      "source": [
        "print(my_name + \" studies for \"+ hours_per_week +\" hours \")"
      ],
      "execution_count": 0,
      "outputs": [
        {
          "output_type": "stream",
          "text": [
            "shambhavi studies for 2222222 hours \n"
          ],
          "name": "stdout"
        }
      ]
    },
    {
      "cell_type": "code",
      "metadata": {
        "id": "7_bTrkkSKZha",
        "colab_type": "code",
        "outputId": "d6c3e38d-6ade-48f3-860c-5125f56050fa",
        "colab": {
          "base_uri": "https://localhost:8080/",
          "height": 34
        }
      },
      "source": [
        "print(type(hours_per_day))"
      ],
      "execution_count": 0,
      "outputs": [
        {
          "output_type": "stream",
          "text": [
            "<class 'str'>\n"
          ],
          "name": "stdout"
        }
      ]
    },
    {
      "cell_type": "code",
      "metadata": {
        "id": "kM5K5yTjKfXr",
        "colab_type": "code",
        "outputId": "85898302-5bd1-45d5-a787-f1b4d3a1e5f0",
        "colab": {
          "base_uri": "https://localhost:8080/",
          "height": 163
        }
      },
      "source": [
        "hours_"
      ],
      "execution_count": 0,
      "outputs": [
        {
          "output_type": "error",
          "ename": "NameError",
          "evalue": "ignored",
          "traceback": [
            "\u001b[0;31m---------------------------------------------------------------------------\u001b[0m",
            "\u001b[0;31mNameError\u001b[0m                                 Traceback (most recent call last)",
            "\u001b[0;32m<ipython-input-20-adf80c0e832d>\u001b[0m in \u001b[0;36m<module>\u001b[0;34m()\u001b[0m\n\u001b[0;32m----> 1\u001b[0;31m \u001b[0mhours_\u001b[0m\u001b[0;34m\u001b[0m\u001b[0;34m\u001b[0m\u001b[0m\n\u001b[0m",
            "\u001b[0;31mNameError\u001b[0m: name 'hours_' is not defined"
          ]
        }
      ]
    },
    {
      "cell_type": "code",
      "metadata": {
        "id": "G7QEd_lUMIuj",
        "colab_type": "code",
        "colab": {}
      },
      "source": [
        "hours_per_day_int=float(hours_per_day) "
      ],
      "execution_count": 0,
      "outputs": []
    },
    {
      "cell_type": "code",
      "metadata": {
        "id": "hYpHT3Y0MQFe",
        "colab_type": "code",
        "outputId": "3c3f32cd-563e-4935-efe1-5294920885cd",
        "colab": {
          "base_uri": "https://localhost:8080/",
          "height": 34
        }
      },
      "source": [
        "print(hours_per_day_int , type(hours_per_day_int))"
      ],
      "execution_count": 0,
      "outputs": [
        {
          "output_type": "stream",
          "text": [
            "2 <class 'int'>\n"
          ],
          "name": "stdout"
        }
      ]
    },
    {
      "cell_type": "code",
      "metadata": {
        "id": "lLbkw3BUMaIV",
        "colab_type": "code",
        "outputId": "53158c7f-345f-46ec-d903-807a662a1921",
        "colab": {
          "base_uri": "https://localhost:8080/",
          "height": 163
        }
      },
      "source": [
        "hours_per_week = hours_per_day_int * 7"
      ],
      "execution_count": 0,
      "outputs": [
        {
          "output_type": "error",
          "ename": "NameError",
          "evalue": "ignored",
          "traceback": [
            "\u001b[0;31m---------------------------------------------------------------------------\u001b[0m",
            "\u001b[0;31mNameError\u001b[0m                                 Traceback (most recent call last)",
            "\u001b[0;32m<ipython-input-28-ac9af5114ef3>\u001b[0m in \u001b[0;36m<module>\u001b[0;34m()\u001b[0m\n\u001b[0;32m----> 1\u001b[0;31m \u001b[0mhours_per_week\u001b[0m \u001b[0;34m=\u001b[0m \u001b[0mhours_per_day_int\u001b[0m \u001b[0;34m*\u001b[0m \u001b[0;36m7\u001b[0m\u001b[0;34m\u001b[0m\u001b[0;34m\u001b[0m\u001b[0m\n\u001b[0m",
            "\u001b[0;31mNameError\u001b[0m: name 'hours_per_day_int' is not defined"
          ]
        }
      ]
    },
    {
      "cell_type": "code",
      "metadata": {
        "id": "M94TFugQMqxm",
        "colab_type": "code",
        "outputId": "5eebb5b7-284b-42ab-da34-13abe6f8e4d7",
        "colab": {
          "base_uri": "https://localhost:8080/",
          "height": 34
        }
      },
      "source": [
        "print(my_name + \" studies for \" +str(hours_per_week) + \" hours \")"
      ],
      "execution_count": 0,
      "outputs": [
        {
          "output_type": "stream",
          "text": [
            "shambhavi studies for 17.5 hours \n"
          ],
          "name": "stdout"
        }
      ]
    },
    {
      "cell_type": "markdown",
      "metadata": {
        "id": "QqQt3vL5QoNR",
        "colab_type": "text"
      },
      "source": [
        "# string processing\n",
        "```\n",
        "\n"
      ]
    },
    {
      "cell_type": "code",
      "metadata": {
        "id": "U35KRHQZM0-Z",
        "colab_type": "code",
        "colab": {}
      },
      "source": [
        "topic=\"Foundations of Data Science\""
      ],
      "execution_count": 0,
      "outputs": []
    },
    {
      "cell_type": "code",
      "metadata": {
        "id": "WEPzqBqzRWBE",
        "colab_type": "code",
        "outputId": "00c8338c-610a-481f-ba7e-2299ef3dfdb5",
        "colab": {
          "base_uri": "https://localhost:8080/",
          "height": 163
        }
      },
      "source": [
        "print(topic)"
      ],
      "execution_count": 0,
      "outputs": [
        {
          "output_type": "error",
          "ename": "NameError",
          "evalue": "ignored",
          "traceback": [
            "\u001b[0;31m---------------------------------------------------------------------------\u001b[0m",
            "\u001b[0;31mNameError\u001b[0m                                 Traceback (most recent call last)",
            "\u001b[0;32m<ipython-input-2-d9583fa825d2>\u001b[0m in \u001b[0;36m<module>\u001b[0;34m()\u001b[0m\n\u001b[0;32m----> 1\u001b[0;31m \u001b[0mprint\u001b[0m\u001b[0;34m(\u001b[0m\u001b[0mtopic\u001b[0m\u001b[0;34m)\u001b[0m\u001b[0;34m\u001b[0m\u001b[0;34m\u001b[0m\u001b[0m\n\u001b[0m",
            "\u001b[0;31mNameError\u001b[0m: name 'topic' is not defined"
          ]
        }
      ]
    },
    {
      "cell_type": "code",
      "metadata": {
        "id": "ORgV-qkeRYB0",
        "colab_type": "code",
        "outputId": "c4525a61-7c61-4326-a872-00874c429394",
        "colab": {
          "base_uri": "https://localhost:8080/",
          "height": 34
        }
      },
      "source": [
        "print(topic[0])"
      ],
      "execution_count": 0,
      "outputs": [
        {
          "output_type": "stream",
          "text": [
            "f\n"
          ],
          "name": "stdout"
        }
      ]
    },
    {
      "cell_type": "code",
      "metadata": {
        "id": "NYcIS1OSRuYR",
        "colab_type": "code",
        "outputId": "fda63e79-5d20-453c-fecb-64131326cd9c",
        "colab": {
          "base_uri": "https://localhost:8080/",
          "height": 34
        }
      },
      "source": [
        "print(topic[-1])"
      ],
      "execution_count": 0,
      "outputs": [
        {
          "output_type": "stream",
          "text": [
            "e\n"
          ],
          "name": "stdout"
        }
      ]
    },
    {
      "cell_type": "code",
      "metadata": {
        "id": "AZVAmfDHSEBJ",
        "colab_type": "code",
        "outputId": "287f556f-ba84-4ef6-eaab-637a583f93fd",
        "colab": {
          "base_uri": "https://localhost:8080/",
          "height": 34
        }
      },
      "source": [
        "print(topic[-2])"
      ],
      "execution_count": 0,
      "outputs": [
        {
          "output_type": "stream",
          "text": [
            "c\n"
          ],
          "name": "stdout"
        }
      ]
    },
    {
      "cell_type": "code",
      "metadata": {
        "id": "hqyxil8iSSv4",
        "colab_type": "code",
        "outputId": "db104d97-b1a3-410a-8a4c-7e0f1d148076",
        "colab": {
          "base_uri": "https://localhost:8080/",
          "height": 34
        }
      },
      "source": [
        "print(topic[0:10])"
      ],
      "execution_count": 0,
      "outputs": [
        {
          "output_type": "stream",
          "text": [
            "foundation\n"
          ],
          "name": "stdout"
        }
      ]
    },
    {
      "cell_type": "code",
      "metadata": {
        "id": "lJwI3yCaSuDA",
        "colab_type": "code",
        "outputId": "03ff984c-ee3f-4995-f82b-a7703e78f108",
        "colab": {
          "base_uri": "https://localhost:8080/",
          "height": 34
        }
      },
      "source": [
        "print(topic[12:16])"
      ],
      "execution_count": 0,
      "outputs": [
        {
          "output_type": "stream",
          "text": [
            "of d\n"
          ],
          "name": "stdout"
        }
      ]
    },
    {
      "cell_type": "code",
      "metadata": {
        "id": "A8N3r9q7TMLN",
        "colab_type": "code",
        "outputId": "7b1a90b9-07c9-499d-f256-22822e063ca5",
        "colab": {
          "base_uri": "https://localhost:8080/",
          "height": 34
        }
      },
      "source": [
        "print(topic.lower())"
      ],
      "execution_count": 0,
      "outputs": [
        {
          "output_type": "stream",
          "text": [
            "foundations of data science\n"
          ],
          "name": "stdout"
        }
      ]
    },
    {
      "cell_type": "code",
      "metadata": {
        "id": "5cP4VlhgT5eK",
        "colab_type": "code",
        "colab": {}
      },
      "source": [
        "topic=topic.lower()"
      ],
      "execution_count": 0,
      "outputs": []
    },
    {
      "cell_type": "code",
      "metadata": {
        "id": "GhuxwT10VN3v",
        "colab_type": "code",
        "outputId": "d17758fc-e05f-4bbe-c5c5-08d2795141b3",
        "colab": {
          "base_uri": "https://localhost:8080/",
          "height": 34
        }
      },
      "source": [
        "print(topic)"
      ],
      "execution_count": 0,
      "outputs": [
        {
          "output_type": "stream",
          "text": [
            "foundations of data science\n"
          ],
          "name": "stdout"
        }
      ]
    },
    {
      "cell_type": "code",
      "metadata": {
        "id": "9cEK8lIPVQFZ",
        "colab_type": "code",
        "outputId": "0728eb93-2bf5-4485-93a7-f9e39b6f8abc",
        "colab": {
          "base_uri": "https://localhost:8080/",
          "height": 34
        }
      },
      "source": [
        "print(topic.upper())"
      ],
      "execution_count": 0,
      "outputs": [
        {
          "output_type": "stream",
          "text": [
            "FOUNDATIONS OF DATA SCIENCE\n"
          ],
          "name": "stdout"
        }
      ]
    },
    {
      "cell_type": "code",
      "metadata": {
        "id": "JfEjpcVoVWB-",
        "colab_type": "code",
        "colab": {}
      },
      "source": [
        "topic=\"Foundations of Data Science\""
      ],
      "execution_count": 0,
      "outputs": []
    },
    {
      "cell_type": "code",
      "metadata": {
        "id": "lSWj_6SGM9qU",
        "colab_type": "code",
        "outputId": "7cd7d1a3-bf77-41c5-9caf-dc36746fba0c",
        "colab": {
          "base_uri": "https://localhost:8080/",
          "height": 34
        }
      },
      "source": [
        "print(topic)"
      ],
      "execution_count": 0,
      "outputs": [
        {
          "output_type": "stream",
          "text": [
            "Foundations of Data Science\n"
          ],
          "name": "stdout"
        }
      ]
    },
    {
      "cell_type": "code",
      "metadata": {
        "id": "QKtHxs4RNAzY",
        "colab_type": "code",
        "outputId": "66d0ad65-f16f-48ba-d3ac-8a8bc420e025",
        "colab": {
          "base_uri": "https://localhost:8080/",
          "height": 34
        }
      },
      "source": [
        "print(topic.islower())"
      ],
      "execution_count": 0,
      "outputs": [
        {
          "output_type": "stream",
          "text": [
            "True\n"
          ],
          "name": "stdout"
        }
      ]
    },
    {
      "cell_type": "code",
      "metadata": {
        "id": "UOYPDLhINpvS",
        "colab_type": "code",
        "outputId": "6590e6a7-d981-47f4-a19f-e2c5f3ab1663",
        "colab": {
          "base_uri": "https://localhost:8080/",
          "height": 34
        }
      },
      "source": [
        "print(topic.isupper())"
      ],
      "execution_count": 0,
      "outputs": [
        {
          "output_type": "stream",
          "text": [
            "False\n"
          ],
          "name": "stdout"
        }
      ]
    },
    {
      "cell_type": "code",
      "metadata": {
        "id": "mlcJYz4lOagD",
        "colab_type": "code",
        "colab": {}
      },
      "source": [
        "topic=topic.upper()"
      ],
      "execution_count": 0,
      "outputs": []
    },
    {
      "cell_type": "code",
      "metadata": {
        "id": "o_zx-N4UOzEx",
        "colab_type": "code",
        "outputId": "09f33769-a1e8-45f1-d842-fe2115517435",
        "colab": {
          "base_uri": "https://localhost:8080/",
          "height": 34
        }
      },
      "source": [
        "print(topic.islower())"
      ],
      "execution_count": 0,
      "outputs": [
        {
          "output_type": "stream",
          "text": [
            "False\n"
          ],
          "name": "stdout"
        }
      ]
    },
    {
      "cell_type": "code",
      "metadata": {
        "id": "tVrsUh1MO3UD",
        "colab_type": "code",
        "outputId": "c5073e0f-adbb-491b-b2be-87753c058209",
        "colab": {
          "base_uri": "https://localhost:8080/",
          "height": 34
        }
      },
      "source": [
        "print(topic.isupper())"
      ],
      "execution_count": 0,
      "outputs": [
        {
          "output_type": "stream",
          "text": [
            "True\n"
          ],
          "name": "stdout"
        }
      ]
    },
    {
      "cell_type": "code",
      "metadata": {
        "id": "2tM4x4wOO7Rj",
        "colab_type": "code",
        "outputId": "2c2f63c8-f993-4114-eae0-4ab86c8dd2ea",
        "colab": {
          "base_uri": "https://localhost:8080/",
          "height": 34
        }
      },
      "source": [
        "print(topic.find(\"DATA\"))"
      ],
      "execution_count": 0,
      "outputs": [
        {
          "output_type": "stream",
          "text": [
            "15\n"
          ],
          "name": "stdout"
        }
      ]
    },
    {
      "cell_type": "code",
      "metadata": {
        "id": "F4MzGDuJPF3J",
        "colab_type": "code",
        "outputId": "fda241cc-3323-4782-8e06-f23c795743f9",
        "colab": {
          "base_uri": "https://localhost:8080/",
          "height": 34
        }
      },
      "source": [
        "print(topic.find(\"AI\"))"
      ],
      "execution_count": 0,
      "outputs": [
        {
          "output_type": "stream",
          "text": [
            "-1\n"
          ],
          "name": "stdout"
        }
      ]
    },
    {
      "cell_type": "code",
      "metadata": {
        "id": "7Uxdyc3LPppS",
        "colab_type": "code",
        "outputId": "4038fbac-6a4c-4abc-848b-ae92687d75b1",
        "colab": {
          "base_uri": "https://localhost:8080/",
          "height": 34
        }
      },
      "source": [
        "print(topic.replace(\"SCIENCE\",\"ENGINEERING\"))"
      ],
      "execution_count": 0,
      "outputs": [
        {
          "output_type": "stream",
          "text": [
            "FOUNDATIONS OF DATA ENGINEERING\n"
          ],
          "name": "stdout"
        }
      ]
    },
    {
      "cell_type": "code",
      "metadata": {
        "id": "5TAD_d_uQWj5",
        "colab_type": "code",
        "colab": {}
      },
      "source": [
        "golden_ratio=55/34"
      ],
      "execution_count": 0,
      "outputs": []
    },
    {
      "cell_type": "code",
      "metadata": {
        "id": "IqF2EYBrQo3b",
        "colab_type": "code",
        "outputId": "c50878ed-fa19-4ecf-dc6c-462f0549b990",
        "colab": {
          "base_uri": "https://localhost:8080/",
          "height": 34
        }
      },
      "source": [
        "print(golden_ratio)"
      ],
      "execution_count": 0,
      "outputs": [
        {
          "output_type": "stream",
          "text": [
            "1.6176470588235294\n"
          ],
          "name": "stdout"
        }
      ]
    },
    {
      "cell_type": "code",
      "metadata": {
        "id": "qzQD92BGQrdu",
        "colab_type": "code",
        "outputId": "9bc7690d-680c-4a83-f24b-2191a41645f5",
        "colab": {
          "base_uri": "https://localhost:8080/",
          "height": 34
        }
      },
      "source": [
        "print(golden_ratio.is_integer())"
      ],
      "execution_count": 0,
      "outputs": [
        {
          "output_type": "stream",
          "text": [
            "False\n"
          ],
          "name": "stdout"
        }
      ]
    },
    {
      "cell_type": "code",
      "metadata": {
        "id": "iKfDXkcQRSDW",
        "colab_type": "code",
        "outputId": "2e354c06-13fa-4859-8fb6-9e691264f229",
        "colab": {
          "base_uri": "https://localhost:8080/",
          "height": 34
        }
      },
      "source": [
        "print(golden_ratio.as_integer_ratio())"
      ],
      "execution_count": 0,
      "outputs": [
        {
          "output_type": "stream",
          "text": [
            "(3642617345667313, 2251799813685248)\n"
          ],
          "name": "stdout"
        }
      ]
    },
    {
      "cell_type": "code",
      "metadata": {
        "id": "mmJjou-sRl6k",
        "colab_type": "code",
        "outputId": "5445a9f7-15d7-467c-b916-17310bd0c7fa",
        "colab": {
          "base_uri": "https://localhost:8080/",
          "height": 34
        }
      },
      "source": [
        "print(3642617345667313/2251799813685248)"
      ],
      "execution_count": 0,
      "outputs": [
        {
          "output_type": "stream",
          "text": [
            "1.6176470588235294\n"
          ],
          "name": "stdout"
        }
      ]
    },
    {
      "cell_type": "code",
      "metadata": {
        "id": "lY0ilnj-SI2p",
        "colab_type": "code",
        "outputId": "a8b6ef94-a447-4386-87de-f37e1ec98c31",
        "colab": {
          "base_uri": "https://localhost:8080/",
          "height": 34
        }
      },
      "source": [
        "print(55//34  , 55/34)"
      ],
      "execution_count": 0,
      "outputs": [
        {
          "output_type": "stream",
          "text": [
            "1 1.6176470588235294\n"
          ],
          "name": "stdout"
        }
      ]
    },
    {
      "cell_type": "code",
      "metadata": {
        "id": "MDHxvLAaTbsf",
        "colab_type": "code",
        "outputId": "53aa35a9-31d0-4fc1-c530-4b6e226e3ca9",
        "colab": {
          "base_uri": "https://localhost:8080/",
          "height": 34
        }
      },
      "source": [
        "print(55%34)"
      ],
      "execution_count": 0,
      "outputs": [
        {
          "output_type": "stream",
          "text": [
            "21\n"
          ],
          "name": "stdout"
        }
      ]
    },
    {
      "cell_type": "code",
      "metadata": {
        "id": "GpRHcm6DTqx2",
        "colab_type": "code",
        "outputId": "7464fad4-863f-4bfa-a354-0f61856e2d7b",
        "colab": {
          "base_uri": "https://localhost:8080/",
          "height": 34
        }
      },
      "source": [
        "print(2 ** 3)"
      ],
      "execution_count": 0,
      "outputs": [
        {
          "output_type": "stream",
          "text": [
            "8\n"
          ],
          "name": "stdout"
        }
      ]
    },
    {
      "cell_type": "markdown",
      "metadata": {
        "id": "YsZbSDHTUU7Q",
        "colab_type": "text"
      },
      "source": [
        "# IF,FOR,WHILE LOOPS AND BLOCKS"
      ]
    },
    {
      "cell_type": "code",
      "metadata": {
        "id": "kTgtrEXaV9CM",
        "colab_type": "code",
        "outputId": "665e39b7-ba23-4c4c-e028-7b6f4c460d07",
        "colab": {
          "base_uri": "https://localhost:8080/",
          "height": 197
        }
      },
      "source": [
        "hours_per_week=14\n",
        "my_name=Shambhavi\n",
        "print(my_name)"
      ],
      "execution_count": 0,
      "outputs": [
        {
          "output_type": "error",
          "ename": "NameError",
          "evalue": "ignored",
          "traceback": [
            "\u001b[0;31m---------------------------------------------------------------------------\u001b[0m",
            "\u001b[0;31mNameError\u001b[0m                                 Traceback (most recent call last)",
            "\u001b[0;32m<ipython-input-33-c2d90dfa4fa7>\u001b[0m in \u001b[0;36m<module>\u001b[0;34m()\u001b[0m\n\u001b[1;32m      1\u001b[0m \u001b[0mhours_per_week\u001b[0m\u001b[0;34m=\u001b[0m\u001b[0;36m14\u001b[0m\u001b[0;34m\u001b[0m\u001b[0;34m\u001b[0m\u001b[0m\n\u001b[0;32m----> 2\u001b[0;31m \u001b[0mmy_name\u001b[0m\u001b[0;34m=\u001b[0m\u001b[0mShambhavi\u001b[0m\u001b[0;34m\u001b[0m\u001b[0;34m\u001b[0m\u001b[0m\n\u001b[0m\u001b[1;32m      3\u001b[0m \u001b[0mprint\u001b[0m\u001b[0;34m(\u001b[0m\u001b[0mmy_name\u001b[0m\u001b[0;34m)\u001b[0m\u001b[0;34m\u001b[0m\u001b[0;34m\u001b[0m\u001b[0m\n",
            "\u001b[0;31mNameError\u001b[0m: name 'Shambhavi' is not defined"
          ]
        }
      ]
    },
    {
      "cell_type": "code",
      "metadata": {
        "id": "IZEfDweiT8Pf",
        "colab_type": "code",
        "outputId": "936d6ad4-fb19-484e-8263-ee070d92c453",
        "colab": {
          "base_uri": "https://localhost:8080/",
          "height": 180
        }
      },
      "source": [
        "if hours_per_week > 10 :\n",
        "    print(my_name  + \" is doing well\" )"
      ],
      "execution_count": 0,
      "outputs": [
        {
          "output_type": "error",
          "ename": "NameError",
          "evalue": "ignored",
          "traceback": [
            "\u001b[0;31m---------------------------------------------------------------------------\u001b[0m",
            "\u001b[0;31mNameError\u001b[0m                                 Traceback (most recent call last)",
            "\u001b[0;32m<ipython-input-31-b06725b1509c>\u001b[0m in \u001b[0;36m<module>\u001b[0;34m()\u001b[0m\n\u001b[1;32m      1\u001b[0m \u001b[0;32mif\u001b[0m \u001b[0mhours_per_week\u001b[0m \u001b[0;34m>\u001b[0m \u001b[0;36m10\u001b[0m \u001b[0;34m:\u001b[0m\u001b[0;34m\u001b[0m\u001b[0;34m\u001b[0m\u001b[0m\n\u001b[0;32m----> 2\u001b[0;31m     \u001b[0mprint\u001b[0m\u001b[0;34m(\u001b[0m\u001b[0mmy_name\u001b[0m  \u001b[0;34m+\u001b[0m \u001b[0;34m\" is doing well\"\u001b[0m \u001b[0;34m)\u001b[0m\u001b[0;34m\u001b[0m\u001b[0;34m\u001b[0m\u001b[0m\n\u001b[0m",
            "\u001b[0;31mNameError\u001b[0m: name 'my_name' is not defined"
          ]
        }
      ]
    },
    {
      "cell_type": "code",
      "metadata": {
        "id": "Mg3eCEfdWNZq",
        "colab_type": "code",
        "colab": {}
      },
      "source": [
        "hours_per_week=5"
      ],
      "execution_count": 0,
      "outputs": []
    },
    {
      "cell_type": "code",
      "metadata": {
        "id": "rez8pIzvVq9k",
        "colab_type": "code",
        "outputId": "475d15f0-dc2a-4d47-b40b-86ae9a165d0d",
        "colab": {
          "base_uri": "https://localhost:8080/",
          "height": 163
        }
      },
      "source": [
        "my_name=Shambhavi"
      ],
      "execution_count": 0,
      "outputs": [
        {
          "output_type": "error",
          "ename": "NameError",
          "evalue": "ignored",
          "traceback": [
            "\u001b[0;31m---------------------------------------------------------------------------\u001b[0m",
            "\u001b[0;31mNameError\u001b[0m                                 Traceback (most recent call last)",
            "\u001b[0;32m<ipython-input-36-fce62418a1dc>\u001b[0m in \u001b[0;36m<module>\u001b[0;34m()\u001b[0m\n\u001b[0;32m----> 1\u001b[0;31m \u001b[0mmy_name\u001b[0m\u001b[0;34m=\u001b[0m\u001b[0mShambhavi\u001b[0m\u001b[0;34m\u001b[0m\u001b[0;34m\u001b[0m\u001b[0m\n\u001b[0m",
            "\u001b[0;31mNameError\u001b[0m: name 'Shambhavi' is not defined"
          ]
        }
      ]
    },
    {
      "cell_type": "code",
      "metadata": {
        "id": "OsoqqGa4WYxV",
        "colab_type": "code",
        "outputId": "3131ef96-239f-443a-9cd4-bb252a7e002b",
        "colab": {
          "base_uri": "https://localhost:8080/",
          "height": 34
        }
      },
      "source": [
        "my_name = input(\"what is your name\")"
      ],
      "execution_count": 0,
      "outputs": [
        {
          "output_type": "stream",
          "text": [
            "what is your nameshambhavi\n"
          ],
          "name": "stdout"
        }
      ]
    },
    {
      "cell_type": "code",
      "metadata": {
        "id": "dFQYKRFIWlAw",
        "colab_type": "code",
        "outputId": "eac15217-8aa9-4265-f816-297eb9208f73",
        "colab": {
          "base_uri": "https://localhost:8080/",
          "height": 34
        }
      },
      "source": [
        "print(my_name)"
      ],
      "execution_count": 0,
      "outputs": [
        {
          "output_type": "stream",
          "text": [
            "shambhavi\n"
          ],
          "name": "stdout"
        }
      ]
    },
    {
      "cell_type": "code",
      "metadata": {
        "id": "j97ACd-pWrNQ",
        "colab_type": "code",
        "colab": {}
      },
      "source": [
        "if hours_per_week > 10 :\n",
        "    print(my_name + \" you are doing well\")"
      ],
      "execution_count": 0,
      "outputs": []
    },
    {
      "cell_type": "code",
      "metadata": {
        "id": "y-TNfAzXW5Lb",
        "colab_type": "code",
        "outputId": "753c41b9-bf27-49d8-a7e2-4abac7e9cd08",
        "colab": {
          "base_uri": "https://localhost:8080/",
          "height": 34
        }
      },
      "source": [
        "if hours_per_week > 10 :\n",
        "    print(my_name + \" you are doing well\")\n",
        "else:   \n",
        "    print(my_name + \" needs to study more \")    "
      ],
      "execution_count": 0,
      "outputs": [
        {
          "output_type": "stream",
          "text": [
            "shambhavi needs to study more \n"
          ],
          "name": "stdout"
        }
      ]
    },
    {
      "cell_type": "code",
      "metadata": {
        "colab_type": "code",
        "id": "hsZv5IQMYMYM",
        "outputId": "c1bcd25d-30e7-4516-bc1b-652dea6738b1",
        "colab": {
          "base_uri": "https://localhost:8080/",
          "height": 102
        }
      },
      "source": [
        "for i in range(5) :\n",
        "    print(i)"
      ],
      "execution_count": 0,
      "outputs": [
        {
          "output_type": "stream",
          "text": [
            "0\n",
            "1\n",
            "2\n",
            "3\n",
            "4\n"
          ],
          "name": "stdout"
        }
      ]
    },
    {
      "cell_type": "code",
      "metadata": {
        "id": "oefripu9bU4z",
        "colab_type": "code",
        "colab": {}
      },
      "source": [
        "range?"
      ],
      "execution_count": 0,
      "outputs": []
    },
    {
      "cell_type": "code",
      "metadata": {
        "id": "yM2HUMRFNxAL",
        "colab_type": "code",
        "outputId": "34d88be2-a941-4f3f-961a-fa19960f94a7",
        "colab": {
          "base_uri": "https://localhost:8080/",
          "height": 68
        }
      },
      "source": [
        "for i in range(2 , 5) : \n",
        "    print(i , i**2)\n"
      ],
      "execution_count": 0,
      "outputs": [
        {
          "output_type": "stream",
          "text": [
            "2 4\n",
            "3 9\n",
            "4 16\n"
          ],
          "name": "stdout"
        }
      ]
    },
    {
      "cell_type": "code",
      "metadata": {
        "id": "MzaeexLlN_xT",
        "colab_type": "code",
        "outputId": "261831fe-5b92-45f9-847c-91da6189e0fc",
        "colab": {
          "base_uri": "https://localhost:8080/",
          "height": 221
        }
      },
      "source": [
        "a=1\n",
        "b=1\n",
        "print(a)\n",
        "print(b)\n",
        "for i in range(10) :\n",
        "    temp=a+b\n",
        "    a=b\n",
        "    b=temp\n",
        "    print(temp)"
      ],
      "execution_count": 0,
      "outputs": [
        {
          "output_type": "stream",
          "text": [
            "1\n",
            "1\n",
            "2\n",
            "3\n",
            "5\n",
            "8\n",
            "13\n",
            "21\n",
            "34\n",
            "55\n",
            "89\n",
            "144\n"
          ],
          "name": "stdout"
        }
      ]
    },
    {
      "cell_type": "code",
      "metadata": {
        "id": "UoeEsUNwPkxN",
        "colab_type": "code",
        "outputId": "e2a8f1a5-1c19-4c76-c7f1-9581f0dda711",
        "colab": {
          "base_uri": "https://localhost:8080/",
          "height": 68
        }
      },
      "source": [
        "a=0\n",
        "b=1\n",
        "print(a)\n",
        "print(b)\n",
        "for i in range(10) :\n",
        "    temp=a+b\n",
        "    a=b\n",
        "    b=temp\n",
        "print(temp)"
      ],
      "execution_count": 0,
      "outputs": [
        {
          "output_type": "stream",
          "text": [
            "0\n",
            "1\n",
            "89\n"
          ],
          "name": "stdout"
        }
      ]
    },
    {
      "cell_type": "code",
      "metadata": {
        "id": "2oN4_wABPteQ",
        "colab_type": "code",
        "colab": {}
      },
      "source": [
        "a=1\n",
        "b=1\n",
        "print(a)                                ####   wrong    ####                                        \n",
        "print(b)                     #   Q. to print fibonacci series starting from 1,1 and ending till the number becomes greater than 500 #\n",
        "for i in range(20) :\n",
        "    temp=a+b\n",
        "    a=b\n",
        "    b=temp\n",
        "    if b <= 500 :\n",
        "        print(temp)\n",
        "      "
      ],
      "execution_count": 0,
      "outputs": []
    },
    {
      "cell_type": "code",
      "metadata": {
        "id": "T5OQg3U3RgES",
        "colab_type": "code",
        "outputId": "adc99e22-1603-4b9a-952f-d82dd2398bb8",
        "colab": {
          "base_uri": "https://localhost:8080/",
          "height": 289
        }
      },
      "source": [
        "a=1\n",
        "b=1\n",
        "print(a)\n",
        "print(b)\n",
        "i=2\n",
        "while b < 500 :\n",
        "    temp=a+b\n",
        "    i = i + 1                 # i +=1\n",
        "    a=b\n",
        "    b=temp\n",
        "    print(temp)\n",
        "print(\"Printed \", i , \"numbers\")    "
      ],
      "execution_count": 0,
      "outputs": [
        {
          "output_type": "stream",
          "text": [
            "1\n",
            "1\n",
            "2\n",
            "3\n",
            "5\n",
            "8\n",
            "13\n",
            "21\n",
            "34\n",
            "55\n",
            "89\n",
            "144\n",
            "233\n",
            "377\n",
            "610\n",
            "Printed  15 numbers\n"
          ],
          "name": "stdout"
        }
      ]
    },
    {
      "cell_type": "markdown",
      "metadata": {
        "id": "YjB_hR6dViOj",
        "colab_type": "text"
      },
      "source": [
        "# FUNCIONS"
      ]
    },
    {
      "cell_type": "code",
      "metadata": {
        "id": "zdyuDDXXTEsD",
        "colab_type": "code",
        "colab": {}
      },
      "source": [
        "def fibonacci(pos) :\n",
        "    a=1\n",
        "    b=1\n",
        "    for i in range(pos) :\n",
        "        temp=a+b\n",
        "        a=b\n",
        "        b=temp\n",
        "    return temp    \n"
      ],
      "execution_count": 0,
      "outputs": []
    },
    {
      "cell_type": "code",
      "metadata": {
        "id": "Y1hvd408XF0T",
        "colab_type": "code",
        "outputId": "6e9b1256-6fe0-4ec4-9164-92ab5e228e95",
        "colab": {
          "base_uri": "https://localhost:8080/",
          "height": 34
        }
      },
      "source": [
        "print(fibonacci(3))"
      ],
      "execution_count": 0,
      "outputs": [
        {
          "output_type": "stream",
          "text": [
            "5\n"
          ],
          "name": "stdout"
        }
      ]
    },
    {
      "cell_type": "code",
      "metadata": {
        "id": "LiT7B4sKXSEu",
        "colab_type": "code",
        "outputId": "71e7ef00-2de3-4081-8fb1-423bfea1e7bb",
        "colab": {
          "base_uri": "https://localhost:8080/",
          "height": 34
        }
      },
      "source": [
        "print(fibonacci(7) , fibonacci(8))"
      ],
      "execution_count": 0,
      "outputs": [
        {
          "output_type": "stream",
          "text": [
            "34 55\n"
          ],
          "name": "stdout"
        }
      ]
    },
    {
      "cell_type": "code",
      "metadata": {
        "id": "qNi5bxO2XYki",
        "colab_type": "code",
        "outputId": "40d84a43-a484-436b-ce95-cdbc184def0f",
        "colab": {
          "base_uri": "https://localhost:8080/",
          "height": 153
        }
      },
      "source": [
        "for i in range(2 ,10) : \n",
        "    ratio = fibonacci(i) / fibonacci(i-1)\n",
        "    print(i , ratio)"
      ],
      "execution_count": 0,
      "outputs": [
        {
          "output_type": "stream",
          "text": [
            "2 1.5\n",
            "3 1.6666666666666667\n",
            "4 1.6\n",
            "5 1.625\n",
            "6 1.6153846153846154\n",
            "7 1.619047619047619\n",
            "8 1.6176470588235294\n",
            "9 1.6181818181818182\n"
          ],
          "name": "stdout"
        }
      ]
    },
    {
      "cell_type": "code",
      "metadata": {
        "id": "grYFfDB5YOON",
        "colab_type": "code",
        "colab": {}
      },
      "source": [
        "def fibonacci(pos):\n",
        "    a=34\n",
        "    b=55\n",
        "    for i in range(pos) :\n",
        "        temp=a+b\n",
        "        a=b\n",
        "        b=temp\n",
        "    return temp    \n",
        "\n"
      ],
      "execution_count": 0,
      "outputs": []
    },
    {
      "cell_type": "code",
      "metadata": {
        "id": "X2cZ6T9YZTu5",
        "colab_type": "code",
        "outputId": "4fd3bd92-5fb3-40b7-922a-ed08fc72cebe",
        "colab": {
          "base_uri": "https://localhost:8080/",
          "height": 34
        }
      },
      "source": [
        "print(fibonacci(1) , fibonacci(2) , fibonacci(3))"
      ],
      "execution_count": 0,
      "outputs": [
        {
          "output_type": "stream",
          "text": [
            "89 144 233\n"
          ],
          "name": "stdout"
        }
      ]
    },
    {
      "cell_type": "code",
      "metadata": {
        "id": "2lts38DOZqJu",
        "colab_type": "code",
        "outputId": "399fdb7d-e1d4-433f-bce5-e5fc27797d41",
        "colab": {
          "base_uri": "https://localhost:8080/",
          "height": 34
        }
      },
      "source": [
        "print(i)                ### wrong"
      ],
      "execution_count": 0,
      "outputs": [
        {
          "output_type": "stream",
          "text": [
            "9\n"
          ],
          "name": "stdout"
        }
      ]
    },
    {
      "cell_type": "code",
      "metadata": {
        "id": "nipludxsZuEm",
        "colab_type": "code",
        "outputId": "8df4390a-90c7-4bc0-d24f-a008535e73ea",
        "colab": {
          "base_uri": "https://localhost:8080/",
          "height": 34
        }
      },
      "source": [
        "print(fibonacci(1) , fibonacci(2) , fibonacci(3))"
      ],
      "execution_count": 0,
      "outputs": [
        {
          "output_type": "stream",
          "text": [
            "89 144 233\n"
          ],
          "name": "stdout"
        }
      ]
    },
    {
      "cell_type": "code",
      "metadata": {
        "id": "4KmvFvorZ3if",
        "colab_type": "code",
        "colab": {}
      },
      "source": [
        "def fibonaccirelative(pos) :             ##### wrong\n",
        "    for i in range(pos) :\n",
        "        i=i+1\n",
        "        a=b\n",
        "        b=temp\n",
        "    return temp    \n"
      ],
      "execution_count": 0,
      "outputs": []
    },
    {
      "cell_type": "code",
      "metadata": {
        "id": "CWpkkhCra5nk",
        "colab_type": "code",
        "outputId": "521edf5f-80be-4614-941c-458940e52f39",
        "colab": {
          "base_uri": "https://localhost:8080/",
          "height": 34
        }
      },
      "source": [
        "print(fibonacci(1))"
      ],
      "execution_count": 0,
      "outputs": [
        {
          "output_type": "stream",
          "text": [
            "610\n"
          ],
          "name": "stdout"
        }
      ]
    },
    {
      "cell_type": "code",
      "metadata": {
        "id": "o-rFNhGIa8T0",
        "colab_type": "code",
        "colab": {}
      },
      "source": [
        "def fibonacci_relative(pos, a, b) :\n",
        "     for i in range(pos) :\n",
        "        temp= a + b\n",
        "        a = b\n",
        "        b = temp\n",
        "     return temp    \n"
      ],
      "execution_count": 0,
      "outputs": []
    },
    {
      "cell_type": "code",
      "metadata": {
        "id": "wY8nZxF2bqmL",
        "colab_type": "code",
        "outputId": "b9317686-2295-46a2-abf6-588634885200",
        "colab": {
          "base_uri": "https://localhost:8080/",
          "height": 34
        }
      },
      "source": [
        "print(fibonacci_relative(3, 34 ,55 ))"
      ],
      "execution_count": 0,
      "outputs": [
        {
          "output_type": "stream",
          "text": [
            "233\n"
          ],
          "name": "stdout"
        }
      ]
    },
    {
      "cell_type": "code",
      "metadata": {
        "id": "OXTAruZicOsM",
        "colab_type": "code",
        "colab": {}
      },
      "source": [
        "def fibonacci_ol(pos, a=1 ,b=1) :\n",
        "    for i in range(pos) :\n",
        "        temp=a+b\n",
        "        a=b\n",
        "        b=temp\n",
        "    return temp   \n"
      ],
      "execution_count": 0,
      "outputs": []
    },
    {
      "cell_type": "code",
      "metadata": {
        "id": "fEnNA-xbeZzN",
        "colab_type": "code",
        "outputId": "5bb66149-8376-414a-ca6c-59d7ef4eae7a",
        "colab": {
          "base_uri": "https://localhost:8080/",
          "height": 34
        }
      },
      "source": [
        "print(fibonacci_ol(3))"
      ],
      "execution_count": 0,
      "outputs": [
        {
          "output_type": "stream",
          "text": [
            "5\n"
          ],
          "name": "stdout"
        }
      ]
    },
    {
      "cell_type": "code",
      "metadata": {
        "id": "yKDLkwuMecdt",
        "colab_type": "code",
        "outputId": "308ee124-281f-420e-ecb3-5806c6be21fb",
        "colab": {
          "base_uri": "https://localhost:8080/",
          "height": 34
        }
      },
      "source": [
        "print(fibonacci_ol(3 ,34 ,55))"
      ],
      "execution_count": 0,
      "outputs": [
        {
          "output_type": "stream",
          "text": [
            "233\n"
          ],
          "name": "stdout"
        }
      ]
    },
    {
      "cell_type": "code",
      "metadata": {
        "id": "BldQ3cUJe4Ed",
        "colab_type": "code",
        "colab": {}
      },
      "source": [
        "def fibonacci_recursive(n, a=1 ,b=1) :\n",
        "    if n > 1 :\n",
        "        return fibonacci_recursive(n - 1 , b , a+b)\n",
        "    else :\n",
        "        return a + b    \n"
      ],
      "execution_count": 0,
      "outputs": []
    },
    {
      "cell_type": "code",
      "metadata": {
        "id": "06WoNhvpg4XL",
        "colab_type": "code",
        "outputId": "a2e06263-886f-4e83-b702-25179eac5fe0",
        "colab": {
          "base_uri": "https://localhost:8080/",
          "height": 34
        }
      },
      "source": [
        "print(fibonacci_recursive(3 ,34 ,55))"
      ],
      "execution_count": 0,
      "outputs": [
        {
          "output_type": "stream",
          "text": [
            "233\n"
          ],
          "name": "stdout"
        }
      ]
    },
    {
      "cell_type": "markdown",
      "metadata": {
        "id": "2ex0_qqkjB95",
        "colab_type": "text"
      },
      "source": [
        "# ASSIGNMENT PROBLEM 1:"
      ]
    },
    {
      "cell_type": "code",
      "metadata": {
        "id": "oSjkBJkYhBlR",
        "colab_type": "code",
        "outputId": "a2bcba1e-1ede-42ab-8d67-1f2e13d384fe",
        "colab": {
          "base_uri": "https://localhost:8080/",
          "height": 51
        }
      },
      "source": [
        "my_height=input(\"Enter your weight(in kgs)\")\n",
        "print(my_height)\n"
      ],
      "execution_count": 0,
      "outputs": [
        {
          "output_type": "stream",
          "text": [
            "Enter your weight(in kgs)45\n",
            "45\n"
          ],
          "name": "stdout"
        }
      ]
    },
    {
      "cell_type": "code",
      "metadata": {
        "id": "8GpLpUlBjcHx",
        "colab_type": "code",
        "outputId": "4b579840-ed74-4db5-89f5-37acddd3df0c",
        "colab": {
          "base_uri": "https://localhost:8080/",
          "height": 34
        }
      },
      "source": [
        "my_weight = input(\"Enter your weight(in kgs)\")"
      ],
      "execution_count": 0,
      "outputs": [
        {
          "output_type": "stream",
          "text": [
            "Enter your weight(in kgs)45\n"
          ],
          "name": "stdout"
        }
      ]
    },
    {
      "cell_type": "code",
      "metadata": {
        "id": "THi6HKKHjkU3",
        "colab_type": "code",
        "outputId": "b27a6109-1e72-48ab-cb79-13244cc630bb",
        "colab": {
          "base_uri": "https://localhost:8080/",
          "height": 34
        }
      },
      "source": [
        "print(my_weight)"
      ],
      "execution_count": 0,
      "outputs": [
        {
          "output_type": "stream",
          "text": [
            "45\n"
          ],
          "name": "stdout"
        }
      ]
    },
    {
      "cell_type": "code",
      "metadata": {
        "id": "b8XU35k8kW4r",
        "colab_type": "code",
        "outputId": "8a077256-4f35-4361-daae-ab52f9782719",
        "colab": {
          "base_uri": "https://localhost:8080/",
          "height": 34
        }
      },
      "source": [
        "our prefmy_type = input(\"what is yfered unit of height? type F for feet and M for meters\")"
      ],
      "execution_count": 0,
      "outputs": [
        {
          "output_type": "stream",
          "text": [
            "what is your preffered unit of height? type F for feet and M for metersF\n"
          ],
          "name": "stdout"
        }
      ]
    },
    {
      "cell_type": "code",
      "metadata": {
        "id": "cS8f5wSFk0Xt",
        "colab_type": "code",
        "colab": {}
      },
      "source": [
        ""
      ],
      "execution_count": 0,
      "outputs": []
    }
  ]
}